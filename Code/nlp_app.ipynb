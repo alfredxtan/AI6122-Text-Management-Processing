{
 "cells": [
  {
   "cell_type": "code",
   "execution_count": 1,
   "id": "bd9d5ec5-b8d0-4b0d-b673-2e0d7ae88017",
   "metadata": {},
   "outputs": [
    {
     "ename": "ModuleNotFoundError",
     "evalue": "No module named 'PySimpleGUI'",
     "output_type": "error",
     "traceback": [
      "\u001b[1;31m---------------------------------------------------------------------------\u001b[0m",
      "\u001b[1;31mModuleNotFoundError\u001b[0m                       Traceback (most recent call last)",
      "\u001b[1;32mc:\\Users\\alfre\\OneDrive - Nanyang Technological University (1)\\MSAI\\AI6122 Text Data Management & Processing\\Assignments\\Group Project\\nlp_app.ipynb Cell 1\u001b[0m line \u001b[0;36m1\n\u001b[1;32m----> <a href='vscode-notebook-cell:/c%3A/Users/alfre/OneDrive%20-%20Nanyang%20Technological%20University%20%281%29/MSAI/AI6122%20Text%20Data%20Management%20%26%20Processing/Assignments/Group%20Project/nlp_app.ipynb#W0sZmlsZQ%3D%3D?line=0'>1</a>\u001b[0m \u001b[39mimport\u001b[39;00m \u001b[39mPySimpleGUI\u001b[39;00m \u001b[39mas\u001b[39;00m \u001b[39msg\u001b[39;00m\n\u001b[0;32m      <a href='vscode-notebook-cell:/c%3A/Users/alfre/OneDrive%20-%20Nanyang%20Technological%20University%20%281%29/MSAI/AI6122%20Text%20Data%20Management%20%26%20Processing/Assignments/Group%20Project/nlp_app.ipynb#W0sZmlsZQ%3D%3D?line=2'>3</a>\u001b[0m sg\u001b[39m.\u001b[39mtheme(\u001b[39m'\u001b[39m\u001b[39mReddit\u001b[39m\u001b[39m'\u001b[39m)\n\u001b[0;32m      <a href='vscode-notebook-cell:/c%3A/Users/alfre/OneDrive%20-%20Nanyang%20Technological%20University%20%281%29/MSAI/AI6122%20Text%20Data%20Management%20%26%20Processing/Assignments/Group%20Project/nlp_app.ipynb#W0sZmlsZQ%3D%3D?line=3'>4</a>\u001b[0m ConList\u001b[39m=\u001b[39m[\u001b[39m'\u001b[39m\u001b[39mSIGIR\u001b[39m\u001b[39m'\u001b[39m, \u001b[39m'\u001b[39m\u001b[39mWSDM\u001b[39m\u001b[39m'\u001b[39m, \u001b[39m'\u001b[39m\u001b[39mCIKM\u001b[39m\u001b[39m'\u001b[39m, \u001b[39m'\u001b[39m\u001b[39mSIGMOD\u001b[39m\u001b[39m'\u001b[39m, \u001b[39m'\u001b[39m\u001b[39mVLDB\u001b[39m\u001b[39m'\u001b[39m, \u001b[39m'\u001b[39m\u001b[39mICML\u001b[39m\u001b[39m'\u001b[39m, \u001b[39m'\u001b[39m\u001b[39mAAAI\u001b[39m\u001b[39m'\u001b[39m, \u001b[39m'\u001b[39m\u001b[39mACL\u001b[39m\u001b[39m'\u001b[39m, \u001b[39m'\u001b[39m\u001b[39mEMNLP\u001b[39m\u001b[39m'\u001b[39m]\n",
      "\u001b[1;31mModuleNotFoundError\u001b[0m: No module named 'PySimpleGUI'"
     ]
    }
   ],
   "source": [
    "import PySimpleGUI as sg\n",
    "\n",
    "sg.theme('Reddit')\n",
    "ConList=['SIGIR', 'WSDM', 'CIKM', 'SIGMOD', 'VLDB', 'ICML', 'AAAI', 'ACL', 'EMNLP']\n",
    "# YearList=list(doc.keys())\n",
    "YearList=list(range(2011, 2024))\n",
    "\n",
    "layout = [  [sg.Text('Title:'), sg.InputText()],\n",
    "            [sg.Text('Author:'), sg.InputText()],\n",
    "            [sg.Text('Conference:'),sg.Combo(ConList),sg.Text('Year:'),sg.Combo(YearList)],\n",
    "            [sg.Button('Ok'), sg.Button('Cancel')] ]\n",
    "\n",
    "QueryList=[]\n",
    "outputstr=\"\"\n",
    "# Create the Window\n",
    "window = sg.Window('Search App', layout)\n",
    "# Event Loop to process \"events\" and get the \"values\" of the inputs\n",
    "while True:\n",
    "    event, values = window.read()\n",
    "    if event == sg.WIN_CLOSED or event == 'Cancel': # if user closes window or clicks cancel\n",
    "        break\n",
    "    print('You entered ', values[0],values[1],values[2],values[3])\n",
    "    print(\"(\",values[0],\")\")\n",
    "    print(type(values[0]))\n",
    "    if values[0]==\"\":\n",
    "        pass\n",
    "    else:\n",
    "        QueryList.append(whoosh.query.Term(\"title\", values[0]))\n",
    "    if values[1]==\"\":\n",
    "        pass\n",
    "    else:\n",
    "        QueryList.append(whoosh.query.Term(\"author\", values[1]))\n",
    "    if values[2]==\"\":\n",
    "        pass\n",
    "    else:\n",
    "        QueryList.append(whoosh.query.Term(\"publication_venue\", values[2]))\n",
    "    if values[3]==\"\":\n",
    "        pass\n",
    "    else:\n",
    "        QueryList.append(whoosh.query.Term(\"year\", values[3]))\n",
    "    boolean_query = whoosh.query.AND(QueryList)\n",
    "    searcher = whoosh.IndexSearcher(index)\n",
    "    results = searcher.search(boolean_query)\n",
    "    for result in results:\n",
    "        print(result.docnum)\n",
    "        outputstr+=str(result.docnum)\n",
    "    sg.popup_scrolled(outputstr)\n",
    "window.close()"
   ]
  },
  {
   "cell_type": "code",
   "execution_count": null,
   "id": "bfe4b23c-d754-4737-9f6d-ba400038a1ca",
   "metadata": {},
   "outputs": [],
   "source": []
  },
  {
   "cell_type": "code",
   "execution_count": null,
   "id": "22e95cb6-0218-4929-a7a2-c9626d24ea00",
   "metadata": {},
   "outputs": [],
   "source": []
  }
 ],
 "metadata": {
  "kernelspec": {
   "display_name": "Python 3 (ipykernel)",
   "language": "python",
   "name": "python3"
  },
  "language_info": {
   "codemirror_mode": {
    "name": "ipython",
    "version": 3
   },
   "file_extension": ".py",
   "mimetype": "text/x-python",
   "name": "python",
   "nbconvert_exporter": "python",
   "pygments_lexer": "ipython3",
   "version": "3.9.18"
  }
 },
 "nbformat": 4,
 "nbformat_minor": 5
}
